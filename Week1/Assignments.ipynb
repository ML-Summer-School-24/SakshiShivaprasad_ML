{
 "cells": [
  {
   "cell_type": "code",
   "execution_count": 1,
   "id": "28d98802-16b8-4b00-bb43-6df131618c1e",
   "metadata": {},
   "outputs": [],
   "source": [
    "import pandas as pd"
   ]
  },
  {
   "cell_type": "markdown",
   "id": "572ca0d3-ba90-45d9-9afa-124994f467b8",
   "metadata": {},
   "source": [
    "#### 1. Create a data frame with details of 10 students and columns as Roll Number, Name, Gender, Marks1, Marks2, Marks3."
   ]
  },
  {
   "cell_type": "code",
   "execution_count": null,
   "id": "74c7353d-5f3a-477f-b211-816208c918f0",
   "metadata": {},
   "outputs": [],
   "source": [
    "details = {'Roll Number': [1, 2, 3, 4, 5, 6, 7, 8, 9, 10],\n",
    "        'Name': ['Anne', 'George', 'Tim', 'Samira', 'Bean', 'Jenny', 'Nanny', 'June', 'Julian', 'Donald'],\n",
    "        'Gender': ['F', 'F', 'M', 'F', 'M', 'F', 'F', 'F', 'M', 'M'],\n",
    "        'Marks1': [90, 10, 80, 70, 50, 40, 60, 20, 10, 60],\n",
    "        'Marks2': [80, 60, 60, 50, 40, 30, 30, 10, 10, 90],\n",
    "        'Marks3': [70, 10, 50, 50, 10, 20, 10, 90, 60, 80]}\n",
    "\n",
    "df = pd.DataFrame(details)"
    "print(df)"
   ]
  },
  {
   "cell_type": "markdown",
   "id": "7bcd64ce-f5fa-431f-a65e-c981a224ce09",
   "metadata": {},
   "source": [
    "#### 2. Create a new column with total marks\n"
   ]
  },
  {
   "cell_type": "code",
   "execution_count": null,
   "id": "0e8efd7c-b2d9-48cb-9ff4-40ebedb0e116",
   "metadata": {},
   "outputs": [],
   "source": [
    "df['Total Marks'] = df['Marks1'] + df['Marks2'] + df['Marks3']"
   ]
  },
  {
   "cell_type": "markdown",
   "id": "36b73ebc-a2d4-4435-a488-f1182af74b85",
   "metadata": {},
   "source": [
    "#### 3. Find the lowest marks in Marks1\n"
   ]
  },
  {
   "cell_type": "code",
   "execution_count": null,
   "id": "a13fb7b9-4089-481b-982e-c34191b2e590",
   "metadata": {},
   "outputs": [],
   "source": [
    "lowest_marks1 = df['Marks1'].min()"
   ]
  },
  {
   "cell_type": "markdown",
   "id": "af38f88f-c1aa-40f0-8720-34e72370cf21",
   "metadata": {},
   "source": [
    "#### 4. Find the Highest marks in Marks2\n"
   ]
  },
  {
   "cell_type": "code",
   "execution_count": null,
   "id": "f886793b-7446-4090-814a-bfeaff082d85",
   "metadata": {},
   "outputs": [],
   "source": [
    "highest_marks2 = df['Marks2'].max()"
   ]
  },
  {
   "cell_type": "markdown",
   "id": "855931e0-2721-42fa-bffd-be1da755851c",
   "metadata": {},
   "source": [
    "#### 5. Find the average marks in Marks3\n"
   ]
  },
  {
   "cell_type": "code",
   "execution_count": null,
   "id": "ef8c8ed6-fc4e-44ef-9f15-ac79285a4676",
   "metadata": {},
   "outputs": [],
   "source": [
    "average_marks3 = df['Marks3'].mean()"
   ]
  },
  {
   "cell_type": "markdown",
   "id": "773feb72-7fba-4106-b823-29af8de8435d",
   "metadata": {},
   "source": [
    "#### 6. Find student name with highest average\n"
   ]
  },
  {
   "cell_type": "code",
   "execution_count": null,
   "id": "f4e905bb-3fb7-4290-adf4-f8ddb5790d4f",
   "metadata": {},
   "outputs": [],
   "source": [
    "df['Average of Marks'] = (df['Marks1'] + df['Marks2'] + df['Marks3']) / 3\n",
    "highest_average_student = df[df['Average of Marks'] == df['Average of Marks'].max()]['Name'].values[0]"
   ]
  },
  {
   "cell_type": "markdown",
   "id": "86733799-5976-4720-ab28-41f675a43613",
   "metadata": {},
   "source": [
    "#### 7. Find how many students failed in Marks2 (<40)\n"
   ]
  },
  {
   "cell_type": "code",
   "execution_count": null,
   "id": "d6ede60d-0e1c-43a9-ab0c-465fe3359fa6",
   "metadata": {},
   "outputs": [],
   "source": [
    "failed_students = df[df['Marks2'] < 40].shape[0]"
   ]
  },
  {
   "cell_type": "markdown",
   "id": "39f69f24-d783-4d74-8e8f-cb4c8bba1b6d",
   "metadata": {},
   "source": [
    "#### 8. Create a table with the 5-number summary of all the numeric attributes.\n"
   ]
  },
  {
   "cell_type": "code",
   "execution_count": null,
   "id": "f6ad0cdf-acca-474e-af1e-c05b8dd2f7c9",
   "metadata": {},
   "outputs": [],
   "source": [
    "table = df.describe()"
   ]
  }
 ],
 "metadata": {
  "kernelspec": {
   "display_name": "Python 3 (ipykernel)",
   "language": "python",
   "name": "python3"
  },
  "language_info": {
   "codemirror_mode": {
    "name": "ipython",
    "version": 3
   },
   "file_extension": ".py",
   "mimetype": "text/x-python",
   "name": "python",
   "nbconvert_exporter": "python",
   "pygments_lexer": "ipython3",
   "version": "3.11.7"
  }
 },
 "nbformat": 4,
 "nbformat_minor": 5
}
